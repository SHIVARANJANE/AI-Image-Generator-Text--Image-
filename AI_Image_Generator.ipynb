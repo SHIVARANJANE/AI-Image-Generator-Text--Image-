from getpass import getpass
HF_TOKEN = getpass("Enter your Hugging Face token: ")

import torch
from diffusers import StableDiffusionPipeline
import gradio as gr
from PIL import Image

# Define styles
styles = {
    "None": "",
    "Realism": ", ultra realistic, 8K, sharp focus",
    "Anime": ", anime style, cel shading, clean lines",
    "Oil Painting": ", oil painting, brush strokes, canvas texture",
    "Cyberpunk": ", neon lights, futuristic, sci-fi vibe",
    "Watercolor": ", watercolor style, soft tones"
}

#  Set up device
device = "cuda" if torch.cuda.is_available() else "cpu"

#  Load Stable Diffusion
pipe = StableDiffusionPipeline.from_pretrained(
    "CompVis/stable-diffusion-v1-4",
    use_auth_token=HF_TOKEN,
    torch_dtype=torch.float16 if device == "cuda" else torch.float32
).to(device)

if device == "cuda":
    pipe.enable_attention_slicing()

# Image generation function
def generate(prompt, style, width, height):
    styled_prompt = prompt + styles[style]

    if device == "cuda":
        with torch.autocast("cuda"):
            image = pipe(
                styled_prompt,
                height=height,
                width=width,
                guidance_scale=7.5,
                num_inference_steps=30
            ).images[0]
    else:
        image = pipe(
            styled_prompt,
            height=height,
            width=width,
            guidance_scale=7.5,
            num_inference_steps=30
        ).images[0]

    image_path = "output.png"
    image.save(image_path)
    return image, image_path

# Gradio UI
with gr.Blocks(title="Stable Diffusion Generator") as demo:
    gr.Markdown("## 🎨 AI Image Generator")
    gr.Markdown("Type a custom prompt and choose a style. Optionally adjust image size.")

    with gr.Row():
        prompt_input = gr.Textbox(label="Your Prompt", placeholder="E.g. A dragon flying over a medieval castle", lines=1)
        style_dropdown = gr.Dropdown(choices=list(styles.keys()), value="Realism", label="Style")

    with gr.Row():
        width_slider = gr.Slider(256, 768, step=64, value=512, label="Width")
        height_slider = gr.Slider(256, 768, step=64, value=512, label="Height")

    generate_btn = gr.Button("Generate Image")

    output_image = gr.Image(label="Generated Image", type="pil")
    download_button = gr.File(label="Download Image")

    def wrapped(prompt, style, width, height):
        return generate(prompt, style, width, height)

    generate_btn.click(
        fn=wrapped,
        inputs=[prompt_input, style_dropdown, width_slider, height_slider],
        outputs=[output_image, download_button]
    )

demo.launch(share=True)
